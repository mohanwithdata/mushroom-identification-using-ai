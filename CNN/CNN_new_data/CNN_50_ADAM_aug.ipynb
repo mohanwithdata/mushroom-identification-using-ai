{
 "cells": [
  {
   "cell_type": "code",
   "execution_count": 1,
   "id": "f1b950fb-049c-4d2b-bbaf-86c028a5b72c",
   "metadata": {},
   "outputs": [],
   "source": [
    "import tensorflow as tf\n",
    "from tensorflow.keras.preprocessing.image import ImageDataGenerator\n",
    "from tensorflow.keras.models import Sequential\n",
    "from tensorflow.keras.layers import Conv2D, MaxPooling2D, Flatten, Dense\n",
    "from sklearn.metrics import classification_report, confusion_matrix\n",
    "import numpy as np\n",
    "import matplotlib.pyplot as plt\n",
    "import seaborn as sns\n",
    "from tensorflow.keras import Input\n",
    "import os"
   ]
  },
  {
   "cell_type": "code",
   "execution_count": 2,
   "id": "5da587d8-8294-4d71-9deb-967a9cbfaf75",
   "metadata": {},
   "outputs": [],
   "source": [
    "# Set dataset path\n",
    "data_dir = r'D:\\Project\\aug_data\\data_aug'"
   ]
  },
  {
   "cell_type": "code",
   "execution_count": 3,
   "id": "13d9d215-a31d-40cb-8f0d-9ded37e0343f",
   "metadata": {},
   "outputs": [
    {
     "name": "stdin",
     "output_type": "stream",
     "text": [
      "Enter epochs number:  40\n"
     ]
    }
   ],
   "source": [
    "batch_size = 32\n",
    "img_height = 224\n",
    "img_width = 224\n",
    "image_size = (img_height, img_width)\n",
    "epochs = int(input(\"Enter epochs number: \"))"
   ]
  },
  {
   "cell_type": "code",
   "execution_count": 4,
   "id": "ee9d2734-bcc8-43c7-b2a8-a249748aada5",
   "metadata": {},
   "outputs": [
    {
     "name": "stdout",
     "output_type": "stream",
     "text": [
      "Found 1314 images belonging to 7 classes.\n"
     ]
    }
   ],
   "source": [
    "train_datagen = ImageDataGenerator(\n",
    "    rescale=1./255,\n",
    "    shear_range=0.2,\n",
    "    zoom_range=0.2,\n",
    "    horizontal_flip=True,\n",
    "    validation_split=0.2\n",
    ")\n",
    "\n",
    "train_generator = train_datagen.flow_from_directory(\n",
    "    data_dir,\n",
    "    target_size=(224, 224),\n",
    "    batch_size=batch_size,\n",
    "    class_mode='categorical',\n",
    "    color_mode='rgb'  # Force RGB mode\n",
    ")"
   ]
  },
  {
   "cell_type": "code",
   "execution_count": 5,
   "id": "4c93eb24-1bda-4148-90da-3bb5da1ec9ef",
   "metadata": {},
   "outputs": [],
   "source": [
    "val_data = r\"D:\\Project\\aug_data\\paper_data\""
   ]
  },
  {
   "cell_type": "code",
   "execution_count": 6,
   "id": "209763fb-626c-444b-a690-e3993ad81893",
   "metadata": {},
   "outputs": [
    {
     "name": "stdout",
     "output_type": "stream",
     "text": [
      "Found 438 images belonging to 7 classes.\n"
     ]
    }
   ],
   "source": [
    "val_generator = train_datagen.flow_from_directory(\n",
    "    val_data,\n",
    "    target_size=image_size,\n",
    "    batch_size=batch_size,\n",
    "    class_mode='categorical',\n",
    ")"
   ]
  },
  {
   "cell_type": "code",
   "execution_count": 7,
   "id": "f91acf18-87ce-4c82-a2df-722dbd7e7f65",
   "metadata": {},
   "outputs": [],
   "source": [
    "model = Sequential([\n",
    "    Input(shape=(224, 224, 3)),  # Define input explicitly\n",
    "    Conv2D(32, (3, 3), activation='relu'),\n",
    "    MaxPooling2D(pool_size=(2, 2)),\n",
    "\n",
    "    Conv2D(64, (3, 3), activation='relu'),\n",
    "    MaxPooling2D(pool_size=(2, 2)),\n",
    "\n",
    "    Conv2D(128, (3, 3), activation='relu'),\n",
    "    MaxPooling2D(pool_size=(2, 2)),\n",
    "\n",
    "    Flatten(),\n",
    "    Dense(256, activation='relu'),\n",
    "    Dense(len(train_generator.class_indices), activation='softmax')  # Output layer\n",
    "])"
   ]
  },
  {
   "cell_type": "code",
   "execution_count": 8,
   "id": "922d310a-3c99-47c3-9721-3d9ba243dca4",
   "metadata": {},
   "outputs": [
    {
     "name": "stdout",
     "output_type": "stream",
     "text": [
      "Model: \"sequential\"\n",
      "_________________________________________________________________\n",
      "Layer (type)                 Output Shape              Param #   \n",
      "=================================================================\n",
      "conv2d (Conv2D)              (None, 222, 222, 32)      896       \n",
      "_________________________________________________________________\n",
      "max_pooling2d (MaxPooling2D) (None, 111, 111, 32)      0         \n",
      "_________________________________________________________________\n",
      "conv2d_1 (Conv2D)            (None, 109, 109, 64)      18496     \n",
      "_________________________________________________________________\n",
      "max_pooling2d_1 (MaxPooling2 (None, 54, 54, 64)        0         \n",
      "_________________________________________________________________\n",
      "conv2d_2 (Conv2D)            (None, 52, 52, 128)       73856     \n",
      "_________________________________________________________________\n",
      "max_pooling2d_2 (MaxPooling2 (None, 26, 26, 128)       0         \n",
      "_________________________________________________________________\n",
      "flatten (Flatten)            (None, 86528)             0         \n",
      "_________________________________________________________________\n",
      "dense (Dense)                (None, 256)               22151424  \n",
      "_________________________________________________________________\n",
      "dense_1 (Dense)              (None, 7)                 1799      \n",
      "=================================================================\n",
      "Total params: 22,246,471\n",
      "Trainable params: 22,246,471\n",
      "Non-trainable params: 0\n",
      "_________________________________________________________________\n"
     ]
    }
   ],
   "source": [
    "model.summary()"
   ]
  },
  {
   "cell_type": "code",
   "execution_count": 9,
   "id": "b888b107-3bfd-4cd0-b83d-57415457d908",
   "metadata": {},
   "outputs": [],
   "source": [
    "# Compile model\n",
    "model.compile(optimizer='adam', loss='categorical_crossentropy', metrics=['accuracy'])"
   ]
  },
  {
   "cell_type": "code",
   "execution_count": null,
   "id": "497cbe30-45f4-4b70-9cbf-d8896dc648c1",
   "metadata": {},
   "outputs": [
    {
     "name": "stdout",
     "output_type": "stream",
     "text": [
      "Epoch 1/40\n",
      "42/42 [==============================] - 67s 1s/step - loss: 2.2561 - accuracy: 0.3683 - val_loss: 1.2845 - val_accuracy: 0.5160\n",
      "Epoch 2/40\n",
      "42/42 [==============================] - 47s 1s/step - loss: 0.7090 - accuracy: 0.7397 - val_loss: 0.4792 - val_accuracy: 0.8128\n",
      "Epoch 3/40\n",
      "42/42 [==============================] - 55s 1s/step - loss: 0.4122 - accuracy: 0.8493 - val_loss: 0.3033 - val_accuracy: 0.8904\n",
      "Epoch 4/40\n",
      "42/42 [==============================] - 55s 1s/step - loss: 0.3276 - accuracy: 0.8896 - val_loss: 0.2408 - val_accuracy: 0.9247\n",
      "Epoch 5/40\n",
      "42/42 [==============================] - 48s 1s/step - loss: 0.2529 - accuracy: 0.9011 - val_loss: 0.2045 - val_accuracy: 0.9247\n",
      "Epoch 6/40\n",
      "42/42 [==============================] - 55s 1s/step - loss: 0.2635 - accuracy: 0.9018 - val_loss: 0.3970 - val_accuracy: 0.8447\n",
      "Epoch 7/40\n",
      "42/42 [==============================] - 55s 1s/step - loss: 0.1799 - accuracy: 0.9361 - val_loss: 0.1437 - val_accuracy: 0.9543\n",
      "Epoch 8/40\n",
      "42/42 [==============================] - 55s 1s/step - loss: 0.1139 - accuracy: 0.9551 - val_loss: 0.0927 - val_accuracy: 0.9612\n",
      "Epoch 9/40\n",
      "42/42 [==============================] - 48s 1s/step - loss: 0.0656 - accuracy: 0.9787 - val_loss: 0.0617 - val_accuracy: 0.9749\n",
      "Epoch 10/40\n",
      "42/42 [==============================] - 55s 1s/step - loss: 0.0839 - accuracy: 0.9726 - val_loss: 0.1492 - val_accuracy: 0.9406\n",
      "Epoch 11/40\n",
      "42/42 [==============================] - 48s 1s/step - loss: 0.0932 - accuracy: 0.9635 - val_loss: 0.0758 - val_accuracy: 0.9772\n",
      "Epoch 12/40\n",
      "42/42 [==============================] - 56s 1s/step - loss: 0.0956 - accuracy: 0.9612 - val_loss: 0.0650 - val_accuracy: 0.9680\n",
      "Epoch 13/40\n",
      "42/42 [==============================] - 57s 1s/step - loss: 0.1171 - accuracy: 0.9597 - val_loss: 0.0868 - val_accuracy: 0.9658\n",
      "Epoch 14/40\n",
      "42/42 [==============================] - 56s 1s/step - loss: 0.0895 - accuracy: 0.9696 - val_loss: 0.0455 - val_accuracy: 0.9840\n",
      "Epoch 15/40\n",
      "42/42 [==============================] - 56s 1s/step - loss: 0.0342 - accuracy: 0.9932 - val_loss: 0.0273 - val_accuracy: 0.9977\n",
      "Epoch 16/40\n",
      "42/42 [==============================] - 55s 1s/step - loss: 0.0131 - accuracy: 0.9962 - val_loss: 0.0101 - val_accuracy: 1.0000\n",
      "Epoch 17/40\n",
      "42/42 [==============================] - 58s 1s/step - loss: 0.0205 - accuracy: 0.9932 - val_loss: 0.0316 - val_accuracy: 0.9863\n",
      "Epoch 18/40\n",
      "42/42 [==============================] - 48s 1s/step - loss: 0.0418 - accuracy: 0.9802 - val_loss: 0.0672 - val_accuracy: 0.9772\n",
      "Epoch 19/40\n",
      "42/42 [==============================] - 56s 1s/step - loss: 0.0739 - accuracy: 0.9665 - val_loss: 0.0450 - val_accuracy: 0.9863\n",
      "Epoch 20/40\n",
      "42/42 [==============================] - 55s 1s/step - loss: 0.0599 - accuracy: 0.9779 - val_loss: 0.1175 - val_accuracy: 0.9635\n",
      "Epoch 21/40\n",
      "42/42 [==============================] - 48s 1s/step - loss: 0.0413 - accuracy: 0.9893 - val_loss: 0.0199 - val_accuracy: 0.9932\n",
      "Epoch 22/40\n",
      "42/42 [==============================] - 55s 1s/step - loss: 0.0319 - accuracy: 0.9893 - val_loss: 0.0120 - val_accuracy: 0.9954\n",
      "Epoch 23/40\n",
      "42/42 [==============================] - 58s 1s/step - loss: 0.0400 - accuracy: 0.9855 - val_loss: 0.0260 - val_accuracy: 0.9909\n",
      "Epoch 24/40\n",
      "42/42 [==============================] - 49s 1s/step - loss: 0.0745 - accuracy: 0.9764 - val_loss: 0.1884 - val_accuracy: 0.9589\n",
      "Epoch 25/40\n",
      "42/42 [==============================] - 56s 1s/step - loss: 0.1808 - accuracy: 0.9521 - val_loss: 0.0715 - val_accuracy: 0.9795\n",
      "Epoch 26/40\n",
      "42/42 [==============================] - 56s 1s/step - loss: 0.0251 - accuracy: 0.9932 - val_loss: 0.0445 - val_accuracy: 0.9840\n",
      "Epoch 27/40\n",
      "42/42 [==============================] - 56s 1s/step - loss: 0.0103 - accuracy: 0.9985 - val_loss: 0.0130 - val_accuracy: 0.9954\n",
      "Epoch 28/40\n",
      "42/42 [==============================] - 48s 1s/step - loss: 0.0089 - accuracy: 0.9962 - val_loss: 0.0021 - val_accuracy: 1.0000\n",
      "Epoch 29/40\n",
      "42/42 [==============================] - 48s 1s/step - loss: 0.0022 - accuracy: 1.0000 - val_loss: 0.0090 - val_accuracy: 0.9977\n",
      "Epoch 30/40\n",
      "42/42 [==============================] - 55s 1s/step - loss: 0.0037 - accuracy: 0.9992 - val_loss: 0.0157 - val_accuracy: 0.9954\n",
      "Epoch 31/40\n",
      "42/42 [==============================] - 48s 1s/step - loss: 0.0126 - accuracy: 0.9954 - val_loss: 0.0261 - val_accuracy: 0.9954\n",
      "Epoch 32/40\n",
      "42/42 [==============================] - 48s 1s/step - loss: 0.0308 - accuracy: 0.9901 - val_loss: 0.0341 - val_accuracy: 0.9886\n",
      "Epoch 33/40\n",
      "42/42 [==============================] - 56s 1s/step - loss: 0.0450 - accuracy: 0.9825 - val_loss: 0.0145 - val_accuracy: 0.9977\n",
      "Epoch 34/40\n",
      "42/42 [==============================] - 48s 1s/step - loss: 0.2304 - accuracy: 0.9277 - val_loss: 0.1078 - val_accuracy: 0.9612\n",
      "Epoch 35/40\n",
      "42/42 [==============================] - 48s 1s/step - loss: 0.0733 - accuracy: 0.9795 - val_loss: 0.0278 - val_accuracy: 0.9886\n",
      "Epoch 36/40\n",
      "42/42 [==============================] - 47s 1s/step - loss: 0.2085 - accuracy: 0.9376 - val_loss: 0.0578 - val_accuracy: 0.9795\n",
      "Epoch 37/40\n",
      "42/42 [==============================] - 56s 1s/step - loss: 0.0517 - accuracy: 0.9871 - val_loss: 0.1316 - val_accuracy: 0.9521\n",
      "Epoch 38/40\n",
      "42/42 [==============================] - 55s 1s/step - loss: 0.0560 - accuracy: 0.9802 - val_loss: 0.0268 - val_accuracy: 0.9932\n",
      "Epoch 39/40\n",
      "42/42 [==============================] - 56s 1s/step - loss: 0.0338 - accuracy: 0.9901 - val_loss: 0.0410 - val_accuracy: 0.9817\n",
      "Epoch 40/40\n",
      "18/42 [===========>..................] - ETA: 20s - loss: 0.0106 - accuracy: 0.9965"
     ]
    }
   ],
   "source": [
    "# Train the model\n",
    "history = model.fit(\n",
    "    train_generator,\n",
    "    epochs=epochs,\n",
    "    validation_data=val_generator\n",
    ")"
   ]
  },
  {
   "cell_type": "code",
   "execution_count": null,
   "id": "79a39f75-7a7d-4f93-95ce-126ff7fadb21",
   "metadata": {},
   "outputs": [],
   "source": [
    "# Plot accuracy and loss curves\n",
    "plt.figure(figsize=(12, 4))\n",
    "\n",
    "plt.subplot(1, 2, 1)\n",
    "plt.plot(history.history['accuracy'], label='Train Accuracy', linewidth=2)\n",
    "plt.plot(history.history['val_accuracy'], label='Validation Accuracy', linewidth=2)\n",
    "plt.title('Model Accuracy', fontsize=14)\n",
    "plt.xlabel('Epoch')\n",
    "plt.ylabel('Accuracy')\n",
    "plt.legend()\n",
    "plt.grid()\n",
    "\n",
    "plt.subplot(1, 2, 2)\n",
    "plt.plot(history.history['loss'], label='Train Loss', linewidth=2)\n",
    "plt.plot(history.history['val_loss'], label='Validation Loss', linewidth=2)\n",
    "plt.title('Model Loss', fontsize=14)\n",
    "plt.xlabel('Epoch')\n",
    "plt.ylabel('Loss')\n",
    "plt.legend()\n",
    "plt.grid()\n",
    "\n",
    "plt.show()"
   ]
  },
  {
   "cell_type": "code",
   "execution_count": null,
   "id": "68091f5c-d55e-4af7-a52f-5ed6ff62ddbb",
   "metadata": {},
   "outputs": [],
   "source": [
    "# Evaluate model\n",
    "eval_generator = train_datagen.flow_from_directory(\n",
    "    data_dir,\n",
    "    target_size=image_size,\n",
    "    batch_size=batch_size,\n",
    "    class_mode='categorical',\n",
    "    shuffle=False\n",
    ")\n",
    "\n",
    "y_true = eval_generator.classes\n",
    "y_pred = model.predict(eval_generator)\n",
    "\n",
    "# Convert predictions to class labels\n",
    "y_pred_classes = np.argmax(y_pred, axis=1)  # Fix tf.argmax issue"
   ]
  },
  {
   "cell_type": "code",
   "execution_count": null,
   "id": "e0681fa8-ccc3-4046-9e24-9ff5a8365283",
   "metadata": {},
   "outputs": [],
   "source": [
    "# Print classification report\n",
    "print(\"\\nClassification Report:\\n\", classification_report(y_true, y_pred_classes))\n",
    "\n",
    "# Plot confusion matrix\n",
    "conf_mat = confusion_matrix(y_true, y_pred_classes)\n",
    "class_labels = list(train_generator.class_indices.keys())"
   ]
  },
  {
   "cell_type": "code",
   "execution_count": null,
   "id": "a1931d7e-486b-45d1-890b-2d71af042a84",
   "metadata": {},
   "outputs": [],
   "source": [
    "plt.figure(figsize=(12, 8))\n",
    "sns.heatmap(conf_mat, annot=True, fmt=\"d\", cmap=\"viridis\", xticklabels=class_labels, yticklabels=class_labels)\n",
    "plt.xlabel('Predicted', fontsize=14)\n",
    "plt.ylabel('Actual', fontsize=14)\n",
    "plt.title('Confusion Matrix', fontsize=16)\n",
    "plt.show()"
   ]
  },
  {
   "cell_type": "code",
   "execution_count": null,
   "id": "29e4da00-72fa-46e7-98c1-cbeb993137da",
   "metadata": {},
   "outputs": [],
   "source": [
    "model_version = epochs\n",
    "next_version = str(int(model_version) + 10)"
   ]
  },
  {
   "cell_type": "code",
   "execution_count": null,
   "id": "5832571c-2c70-4f6d-b519-f45d9601616c",
   "metadata": {},
   "outputs": [],
   "source": [
    "import shutil\n",
    "\n",
    "notebook_filename = f\"CNN_{model_version}_ADAM_aug.ipynb\"\n",
    "new_notebook_filename = f\"CNN_{next_version}_ADAM_aug.ipynb\"\n",
    "\n",
    "shutil.copy(notebook_filename, new_notebook_filename)\n",
    "print(f\"Notebook copied as {new_notebook_filename}\")"
   ]
  },
  {
   "cell_type": "code",
   "execution_count": null,
   "id": "ab45b82c-4eef-43e6-93cf-79a72b7ce4f9",
   "metadata": {},
   "outputs": [],
   "source": [
    "os._exit(00)"
   ]
  }
 ],
 "metadata": {
  "kernelspec": {
   "display_name": "Python [conda env:gpu]",
   "language": "python",
   "name": "conda-env-gpu-py"
  },
  "language_info": {
   "codemirror_mode": {
    "name": "ipython",
    "version": 3
   },
   "file_extension": ".py",
   "mimetype": "text/x-python",
   "name": "python",
   "nbconvert_exporter": "python",
   "pygments_lexer": "ipython3",
   "version": "3.9.18"
  }
 },
 "nbformat": 4,
 "nbformat_minor": 5
}
