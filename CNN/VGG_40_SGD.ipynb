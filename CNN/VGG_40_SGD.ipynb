{
 "cells": [
  {
   "cell_type": "raw",
   "id": "0be310bb-77c9-45c2-97d2-ed2e96ae9df4",
   "metadata": {},
   "source": [
    "Importing necassary packages"
   ]
  },
  {
   "cell_type": "code",
   "execution_count": null,
   "id": "66100274-186e-477a-aec2-95a8afa2e509",
   "metadata": {},
   "outputs": [],
   "source": [
    "import tensorflow as tf\n",
    "from tensorflow.keras import layers, models\n",
    "from tensorflow.keras.layers import Conv2D, MaxPool2D, Flatten, Dense\n",
    "import matplotlib.pyplot as plt\n",
    "import numpy as np\n",
    "import os\n",
    "import PIL\n",
    "import PIL.Image\n",
    "import datetime"
   ]
  },
  {
   "cell_type": "raw",
   "id": "083e3471-fbeb-4be5-9073-91bc816e3808",
   "metadata": {},
   "source": [
    "Checking the GPU availability"
   ]
  },
  {
   "cell_type": "code",
   "execution_count": null,
   "id": "87b64042-83f1-4c6d-9d0a-18fab2a87029",
   "metadata": {},
   "outputs": [],
   "source": [
    "print(tf.config.list_physical_devices('GPU'))\n",
    "print(\"GPU:\", len(tf.config.list_physical_devices('GPU')))\n",
    "print(\"Tensorflow Version\", tf.__version__)"
   ]
  },
  {
   "cell_type": "raw",
   "id": "f7f26674-0eab-45a1-bc27-c0a6e0e40677",
   "metadata": {},
   "source": [
    "Presetting the Image size and Batch size"
   ]
  },
  {
   "cell_type": "code",
   "execution_count": null,
   "id": "4c09a27e-1885-496d-a60f-4720eb476195",
   "metadata": {},
   "outputs": [],
   "source": [
    "batch_size = 32\n",
    "img_height = 224\n",
    "img_width = 224\n",
    "epochs = int(input(\"Enter epochs number: \"))"
   ]
  },
  {
   "cell_type": "raw",
   "id": "addae65b-e384-460e-a2c5-3217c7e7c753",
   "metadata": {},
   "source": [
    "Loading and Splitting image data"
   ]
  },
  {
   "cell_type": "code",
   "execution_count": null,
   "id": "7d82b18e-1ca0-4f7a-8a9a-5484a4f53096",
   "metadata": {},
   "outputs": [],
   "source": [
    "data_dir = r\"D:\\Project\\aug_data\\paper_data_aug\""
   ]
  },
  {
   "cell_type": "code",
   "execution_count": null,
   "id": "28a8ea6c-d293-432d-8d76-7548a48624f4",
   "metadata": {},
   "outputs": [],
   "source": [
    "train_ds = tf.keras.utils.image_dataset_from_directory(\n",
    "  data_dir,\n",
    "  validation_split=0.2,\n",
    "  subset=\"training\",\n",
    "  seed=123,\n",
    "  image_size=(img_height, img_width),\n",
    "  batch_size=batch_size)"
   ]
  },
  {
   "cell_type": "code",
   "execution_count": null,
   "id": "461b8dec-7b01-4983-95e5-55592ebabc4e",
   "metadata": {},
   "outputs": [],
   "source": [
    "val_ds = tf.keras.utils.image_dataset_from_directory(\n",
    "  data_dir,\n",
    "  validation_split=0.2,\n",
    "  subset=\"validation\",\n",
    "  seed=123,\n",
    "  image_size=(img_height, img_width),\n",
    "  batch_size=batch_size)"
   ]
  },
  {
   "cell_type": "raw",
   "id": "031d2d60-8b67-4abf-a5e3-e9d57192f175",
   "metadata": {},
   "source": [
    "Visualizing the Training data Images"
   ]
  },
  {
   "cell_type": "code",
   "execution_count": null,
   "id": "beaba0af-f8cc-475e-9321-24fe2c32f955",
   "metadata": {},
   "outputs": [],
   "source": [
    "class_names = train_ds.class_names\n",
    "print(class_names)"
   ]
  },
  {
   "cell_type": "code",
   "execution_count": null,
   "id": "56e75a86-2c79-4084-8a66-06e492791f2f",
   "metadata": {},
   "outputs": [],
   "source": [
    "plt.figure(figsize=(10, 10))\n",
    "for images, labels in train_ds.take(1):\n",
    "  for i in range(9):\n",
    "    ax = plt.subplot(3, 3, i + 1)\n",
    "    plt.imshow(images[i].numpy().astype(\"uint8\"))\n",
    "    plt.title(class_names[labels[i]])\n",
    "    plt.axis(\"off\")"
   ]
  },
  {
   "cell_type": "raw",
   "id": "7b21ce12-707b-4a91-a07a-9efd325424ad",
   "metadata": {},
   "source": [
    "Rechecking the sizes"
   ]
  },
  {
   "cell_type": "code",
   "execution_count": null,
   "id": "75ab5669-abed-46ba-8fcc-e3b9650e085f",
   "metadata": {},
   "outputs": [],
   "source": [
    "for image_batch, labels_batch in train_ds:\n",
    "  print(image_batch.shape)\n",
    "  print(labels_batch.shape)\n",
    "  break"
   ]
  },
  {
   "cell_type": "raw",
   "id": "716c22ac-e16b-475f-966c-4d31b2973b5e",
   "metadata": {},
   "source": [
    "Basic CNN Model Development"
   ]
  },
  {
   "cell_type": "code",
   "execution_count": null,
   "id": "5cd86c95-80a8-44fc-ba6e-3591e3ad65ec",
   "metadata": {},
   "outputs": [],
   "source": [
    "model = models.Sequential()\n",
    "\n",
    "model.add(Conv2D(input_shape=(224, 224, 3), filters=64, kernel_size=(3, 3), padding=\"same\", activation=\"relu\"))\n",
    "model.add(Conv2D(filters=64, kernel_size=(3, 3), padding=\"same\", activation=\"relu\"))\n",
    "model.add(MaxPool2D(pool_size=(2, 2), strides=(2, 2)))\n",
    "model.add(Conv2D(filters=128, kernel_size=(3, 3), padding=\"same\", activation=\"relu\"))\n",
    "model.add(Conv2D(filters=128, kernel_size=(3, 3), padding=\"same\", activation=\"relu\"))\n",
    "model.add(MaxPool2D(pool_size=(2, 2), strides=(2, 2)))\n",
    "model.add(Conv2D(filters=256, kernel_size=(3, 3), padding=\"same\", activation=\"relu\"))\n",
    "model.add(Conv2D(filters=256, kernel_size=(3, 3), padding=\"same\", activation=\"relu\"))\n",
    "model.add(Conv2D(filters=256, kernel_size=(3, 3), padding=\"same\", activation=\"relu\"))\n",
    "model.add(MaxPool2D(pool_size=(2, 2), strides=(2, 2)))\n",
    "model.add(Conv2D(filters=512, kernel_size=(3, 3), padding=\"same\", activation=\"relu\"))\n",
    "model.add(Conv2D(filters=512, kernel_size=(3, 3), padding=\"same\", activation=\"relu\"))\n",
    "model.add(Conv2D(filters=512, kernel_size=(3, 3), padding=\"same\", activation=\"relu\"))\n",
    "model.add(MaxPool2D(pool_size=(2, 2), strides=(2, 2)))\n",
    "model.add(Conv2D(filters=512, kernel_size=(3, 3), padding=\"same\", activation=\"relu\"))\n",
    "model.add(Conv2D(filters=512, kernel_size=(3, 3), padding=\"same\", activation=\"relu\"))\n",
    "model.add(Conv2D(filters=512, kernel_size=(3, 3), padding=\"same\", activation=\"relu\"))\n",
    "model.add(MaxPool2D(pool_size=(2, 2), strides=(2, 2), name='vgg16'))\n",
    "model.add(Flatten(name='flatten'))\n",
    "model.add(Dense(256, activation='relu', name='fc1'))\n",
    "model.add(Dense(128, activation='relu', name='fc2'))\n",
    "model.add(Dense(5, activation='softmax', name='output'))"
   ]
  },
  {
   "cell_type": "code",
   "execution_count": null,
   "id": "fb911963-e977-470d-99e0-8799dba54ca3",
   "metadata": {},
   "outputs": [],
   "source": [
    "model.summary()"
   ]
  },
  {
   "cell_type": "raw",
   "id": "74065f03-5b39-4c8b-97a9-43d07981809d",
   "metadata": {},
   "source": [
    "Model Compile and fitting with the training & Validation Data"
   ]
  },
  {
   "cell_type": "code",
   "execution_count": null,
   "id": "4cd6548c-cb22-48c9-a729-ad2d81286426",
   "metadata": {},
   "outputs": [],
   "source": [
    "optimizer = tf.keras.optimizers.SGD(learning_rate=0.001, momentum=0.9)"
   ]
  },
  {
   "cell_type": "code",
   "execution_count": null,
   "id": "5f418d6a-a005-4962-ac3b-7357406c793d",
   "metadata": {},
   "outputs": [],
   "source": [
    "model.compile(optimizer=optimizer,\n",
    "              loss=tf.keras.losses.SparseCategoricalCrossentropy(from_logits=False),\n",
    "              metrics=['accuracy'])"
   ]
  },
  {
   "cell_type": "code",
   "execution_count": null,
   "id": "dd83c17f-857d-49c2-bcb1-0e3cd60b96bd",
   "metadata": {},
   "outputs": [],
   "source": [
    "log_dir = \"logs/fit/\" + datetime.datetime.now().strftime(\"%Y%m%d-%H%M%S\")\n",
    "tensorboard_callback = tf.keras.callbacks.TensorBoard(log_dir=log_dir, histogram_freq=1)"
   ]
  },
  {
   "cell_type": "code",
   "execution_count": null,
   "id": "7c45c30c-a611-4398-a33b-6e90ed19a24b",
   "metadata": {},
   "outputs": [],
   "source": [
    "history = model.fit(train_ds, epochs=20, \n",
    "                    validation_data=val_ds)"
   ]
  },
  {
   "cell_type": "raw",
   "id": "c684f1dc-64c3-4914-b41e-b224e2410507",
   "metadata": {},
   "source": [
    "Visualizing the training results"
   ]
  },
  {
   "cell_type": "code",
   "execution_count": null,
   "id": "31d2eb97-7ef7-4e87-a0a8-a9a05ff25c29",
   "metadata": {},
   "outputs": [],
   "source": [
    "plt.plot(history.history['accuracy'], label='accuracy')\n",
    "plt.plot(history.history['val_accuracy'], label = 'val_accuracy')\n",
    "plt.xlabel('Epoch')\n",
    "plt.ylabel('Accuracy')\n",
    "plt.ylim([0.5, 1])\n",
    "plt.legend(loc='lower right')\n",
    "plt.show()"
   ]
  },
  {
   "cell_type": "raw",
   "id": "9108f130-c72a-420b-9381-f30b37be15ba",
   "metadata": {},
   "source": [
    "Test results"
   ]
  },
  {
   "cell_type": "code",
   "execution_count": null,
   "id": "c07fa783-b4ab-4096-893a-6da378986139",
   "metadata": {},
   "outputs": [],
   "source": [
    "test_loss, test_acc = model.evaluate(val_ds, verbose=2)"
   ]
  },
  {
   "cell_type": "code",
   "execution_count": null,
   "id": "c96dc809-92d4-40b0-8d5a-de59b633a7a0",
   "metadata": {},
   "outputs": [],
   "source": [
    "print(test_acc)"
   ]
  },
  {
   "cell_type": "code",
   "execution_count": null,
   "id": "fc8673b6-50c1-40b4-8d41-70607f95e2b8",
   "metadata": {},
   "outputs": [],
   "source": [
    "model_version = input(\"Enter the model version number: \")\n",
    "next_version = str(int(model_version) + 10) \n",
    "model_filename = f\"VGG_{model_version}_SGD_model.h5\"\n",
    "model.save(model_filename)\n",
    "print(f\"Model saved as {model_filename}\")"
   ]
  },
  {
   "cell_type": "raw",
   "id": "97ec69df-c0b6-4aa4-9e3c-306e096733f6",
   "metadata": {},
   "source": [
    "Saving and creating the duplicate of the current notebook"
   ]
  },
  {
   "cell_type": "code",
   "execution_count": null,
   "id": "db950952-3b73-41d7-8214-4f2989641842",
   "metadata": {},
   "outputs": [],
   "source": [
    "import shutil\n",
    "\n",
    "notebook_filename = f\"VGG_{model_version}_SGD.ipynb\"\n",
    "new_notebook_filename = f\"VGG_{next_version}_SGD.ipynb\"\n",
    "\n",
    "shutil.copy(notebook_filename, new_notebook_filename)\n",
    "print(f\"Notebook copied as {new_notebook_filename}\")"
   ]
  },
  {
   "cell_type": "code",
   "execution_count": null,
   "id": "0dc9df33-d3c2-4946-a399-a17117b7bde2",
   "metadata": {},
   "outputs": [],
   "source": [
    "os._exit(00)"
   ]
  },
  {
   "cell_type": "code",
   "execution_count": null,
   "id": "d76b610d-8383-4499-8caa-e82ee0a89d7b",
   "metadata": {},
   "outputs": [],
   "source": []
  }
 ],
 "metadata": {
  "kernelspec": {
   "display_name": "Python [conda env:gpu]",
   "language": "python",
   "name": "conda-env-gpu-py"
  },
  "language_info": {
   "codemirror_mode": {
    "name": "ipython",
    "version": 3
   },
   "file_extension": ".py",
   "mimetype": "text/x-python",
   "name": "python",
   "nbconvert_exporter": "python",
   "pygments_lexer": "ipython3",
   "version": "3.9.18"
  }
 },
 "nbformat": 4,
 "nbformat_minor": 5
}
